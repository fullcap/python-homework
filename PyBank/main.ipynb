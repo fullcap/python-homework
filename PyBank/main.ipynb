{
 "cells": [
  {
   "cell_type": "code",
   "execution_count": null,
   "metadata": {},
   "outputs": [],
   "source": [
    "#The total number of months included in the dataset.\n",
    "#The net total amount of Profit/Losses over the entire period.\n",
    "#The average of the changes in Profit/Losses over the entire period.\n",
    "#The greatest increase in profits (date and amount) over the entire period.\n",
    "#The greatest decrease in losses (date and amount) over the entire period."
   ]
  },
  {
   "cell_type": "code",
   "execution_count": 2,
   "metadata": {},
   "outputs": [],
   "source": [
    "import pandas as pd\n",
    "bd = pd.read_csv('budget_data.csv')"
   ]
  },
  {
   "cell_type": "code",
   "execution_count": 3,
   "metadata": {},
   "outputs": [],
   "source": [
    "total_mths = bd['Profit/Losses'].count() # calculate total mths\n",
    "total = bd['Profit/Losses'].sum() # calculate total pnl\n",
    "avg_chng = round(bd['Profit/Losses'].diff().mean(),2) # calculate average change\n",
    "greatest_increase = round(bd['Profit/Losses'].diff().max()) # calculate max increase\n",
    "greatest_decrease = round(bd['Profit/Losses'].diff().min()) # calculate max decrease"
   ]
  },
  {
   "cell_type": "code",
   "execution_count": 4,
   "metadata": {},
   "outputs": [],
   "source": [
    "diff_lst = bd['Profit/Losses'].diff()\n",
    "f1 = diff_lst == greatest_increase\n",
    "greatest_increase_index = bd[f1]['Date'].index\n",
    "for i in greatest_increase_index:\n",
    "    greatest_increase_date = bd[f1]['Date'][i]\n",
    "diff_lst = bd['Profit/Losses'].diff()\n",
    "f2 = diff_lst == greatest_decrease\n",
    "greatest_decrease_index = bd[f2]['Date'].index\n",
    "for i in greatest_decrease_index:\n",
    "    greatest_decrease_date = bd[f2]['Date'][i]"
   ]
  },
  {
   "cell_type": "code",
   "execution_count": 5,
   "metadata": {},
   "outputs": [
    {
     "name": "stdout",
     "output_type": "stream",
     "text": [
      "Financial Analysis\n",
      "------------------------------\n",
      "Total Months: 86\n",
      "Total: $38382578\n",
      "Average  Change: $-2315.12\n",
      "Greatest Increase in Profits: Feb-2012 (1926159)\n",
      "Greatest Decrease in Profits: Sep-2013 (-2196167)\n"
     ]
    }
   ],
   "source": [
    "print(f'Financial Analysis')\n",
    "print(f'-'*30)\n",
    "print(f'Total Months: {total_mths}')\n",
    "print(f'Total: ${total}')\n",
    "print(f'Average  Change: ${avg_chng}')\n",
    "print(f'Greatest Increase in Profits: {greatest_increase_date} ({greatest_increase})')\n",
    "print(f'Greatest Decrease in Profits: {greatest_decrease_date} ({greatest_decrease})')"
   ]
  },
  {
   "cell_type": "code",
   "execution_count": null,
   "metadata": {},
   "outputs": [],
   "source": []
  }
 ],
 "metadata": {
  "kernelspec": {
   "display_name": "Python 3",
   "language": "python",
   "name": "python3"
  },
  "language_info": {
   "codemirror_mode": {
    "name": "ipython",
    "version": 3
   },
   "file_extension": ".py",
   "mimetype": "text/x-python",
   "name": "python",
   "nbconvert_exporter": "python",
   "pygments_lexer": "ipython3",
   "version": "3.8.5"
  }
 },
 "nbformat": 4,
 "nbformat_minor": 4
}
